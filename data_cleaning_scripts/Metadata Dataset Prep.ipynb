{
 "cells": [
  {
   "cell_type": "code",
   "execution_count": 1,
   "metadata": {
    "collapsed": true
   },
   "outputs": [],
   "source": [
    "import pandas as pd\n",
    "import numpy as np"
   ]
  },
  {
   "cell_type": "code",
   "execution_count": 4,
   "metadata": {
    "collapsed": false
   },
   "outputs": [],
   "source": [
    "df_movies_metadata = pd.read_csv('movies_metadata_ratings.csv')"
   ]
  },
  {
   "cell_type": "code",
   "execution_count": 5,
   "metadata": {
    "collapsed": false
   },
   "outputs": [
    {
     "name": "stdout",
     "output_type": "stream",
     "text": [
      "Index([u'Unnamed: 0', u'belongs_to_collection', u'budget', u'genres',\n",
      "       u'homepage', u'movieId', u'original_language', u'overview',\n",
      "       u'popularity', u'poster_path', u'production_companies',\n",
      "       u'production_countries', u'release_date', u'revenue', u'runtime',\n",
      "       u'spoken_languages', u'status', u'tagline', u'title', u'video',\n",
      "       u'vote_average', u'vote_count', u'year', u'return', u'rating'],\n",
      "      dtype='object')\n"
     ]
    }
   ],
   "source": [
    "print(df_movies_metadata.columns)"
   ]
  },
  {
   "cell_type": "code",
   "execution_count": 7,
   "metadata": {
    "collapsed": false
   },
   "outputs": [
    {
     "data": {
      "text/html": [
       "<div>\n",
       "<table border=\"1\" class=\"dataframe\">\n",
       "  <thead>\n",
       "    <tr style=\"text-align: right;\">\n",
       "      <th></th>\n",
       "      <th>Unnamed: 0</th>\n",
       "      <th>belongs_to_collection</th>\n",
       "      <th>budget</th>\n",
       "      <th>genres</th>\n",
       "      <th>homepage</th>\n",
       "      <th>movieId</th>\n",
       "      <th>original_language</th>\n",
       "      <th>overview</th>\n",
       "      <th>popularity</th>\n",
       "      <th>poster_path</th>\n",
       "      <th>...</th>\n",
       "      <th>spoken_languages</th>\n",
       "      <th>status</th>\n",
       "      <th>tagline</th>\n",
       "      <th>title</th>\n",
       "      <th>video</th>\n",
       "      <th>vote_average</th>\n",
       "      <th>vote_count</th>\n",
       "      <th>year</th>\n",
       "      <th>return</th>\n",
       "      <th>rating</th>\n",
       "    </tr>\n",
       "  </thead>\n",
       "  <tbody>\n",
       "    <tr>\n",
       "      <th>0</th>\n",
       "      <td>1</td>\n",
       "      <td>NaN</td>\n",
       "      <td>65000000</td>\n",
       "      <td>[{'id': 12, 'name': 'Adventure'}, {'id': 14, '...</td>\n",
       "      <td>NaN</td>\n",
       "      <td>8844</td>\n",
       "      <td>en</td>\n",
       "      <td>When siblings Judy and Peter discover an encha...</td>\n",
       "      <td>17.015539</td>\n",
       "      <td>http://image.tmdb.org/t/p/w185//vzmL6fP7aPKNKP...</td>\n",
       "      <td>...</td>\n",
       "      <td>[{'iso_639_1': 'en', 'name': 'English'}, {'iso...</td>\n",
       "      <td>Released</td>\n",
       "      <td>Roll the dice and unleash the excitement!</td>\n",
       "      <td>Jumanji</td>\n",
       "      <td>False</td>\n",
       "      <td>6.9</td>\n",
       "      <td>2413</td>\n",
       "      <td>1995</td>\n",
       "      <td>4.043035</td>\n",
       "      <td>4.125000</td>\n",
       "    </tr>\n",
       "    <tr>\n",
       "      <th>1</th>\n",
       "      <td>28</td>\n",
       "      <td>NaN</td>\n",
       "      <td>18000000</td>\n",
       "      <td>[{'id': 14, 'name': 'Fantasy'}, {'id': 878, 'n...</td>\n",
       "      <td>NaN</td>\n",
       "      <td>902</td>\n",
       "      <td>fr</td>\n",
       "      <td>A scientist in a surrealist society kidnaps ch...</td>\n",
       "      <td>9.822423</td>\n",
       "      <td>http://image.tmdb.org/t/p/w185//eVo6ewq4akfyJY...</td>\n",
       "      <td>...</td>\n",
       "      <td>[{'iso_639_1': 'cn', 'name': '广州话 / 廣州話'}, {'i...</td>\n",
       "      <td>Released</td>\n",
       "      <td>Where happily ever after is just a dream.</td>\n",
       "      <td>The City of Lost Children</td>\n",
       "      <td>False</td>\n",
       "      <td>7.6</td>\n",
       "      <td>308</td>\n",
       "      <td>1995</td>\n",
       "      <td>0.096589</td>\n",
       "      <td>3.778443</td>\n",
       "    </tr>\n",
       "    <tr>\n",
       "      <th>2</th>\n",
       "      <td>31</td>\n",
       "      <td>NaN</td>\n",
       "      <td>29500000</td>\n",
       "      <td>[{'id': 878, 'name': 'Science Fiction'}, {'id'...</td>\n",
       "      <td>NaN</td>\n",
       "      <td>63</td>\n",
       "      <td>en</td>\n",
       "      <td>In the year 2035, convict James Cole reluctant...</td>\n",
       "      <td>12.297305</td>\n",
       "      <td>http://image.tmdb.org/t/p/w185//6Sj9wDu3YugthX...</td>\n",
       "      <td>...</td>\n",
       "      <td>[{'iso_639_1': 'en', 'name': 'English'}, {'iso...</td>\n",
       "      <td>Released</td>\n",
       "      <td>The future is history.</td>\n",
       "      <td>Twelve Monkeys</td>\n",
       "      <td>False</td>\n",
       "      <td>7.4</td>\n",
       "      <td>2470</td>\n",
       "      <td>1995</td>\n",
       "      <td>5.723390</td>\n",
       "      <td>3.245690</td>\n",
       "    </tr>\n",
       "    <tr>\n",
       "      <th>3</th>\n",
       "      <td>44</td>\n",
       "      <td>NaN</td>\n",
       "      <td>20000000</td>\n",
       "      <td>[{'id': 14, 'name': 'Fantasy'}, {'id': 18, 'na...</td>\n",
       "      <td>NaN</td>\n",
       "      <td>577</td>\n",
       "      <td>en</td>\n",
       "      <td>Susan wants to work in television and will the...</td>\n",
       "      <td>10.448481</td>\n",
       "      <td>http://image.tmdb.org/t/p/w185//zCREx8trzejNie...</td>\n",
       "      <td>...</td>\n",
       "      <td>[{'iso_639_1': 'en', 'name': 'English'}]</td>\n",
       "      <td>Released</td>\n",
       "      <td>All she wanted was a little attention.</td>\n",
       "      <td>To Die For</td>\n",
       "      <td>False</td>\n",
       "      <td>6.7</td>\n",
       "      <td>177</td>\n",
       "      <td>1995</td>\n",
       "      <td>1.064226</td>\n",
       "      <td>2.884615</td>\n",
       "    </tr>\n",
       "    <tr>\n",
       "      <th>4</th>\n",
       "      <td>101</td>\n",
       "      <td>NaN</td>\n",
       "      <td>18000000</td>\n",
       "      <td>[{'id': 18, 'name': 'Drama'}, {'id': 9648, 'na...</td>\n",
       "      <td>NaN</td>\n",
       "      <td>2045</td>\n",
       "      <td>en</td>\n",
       "      <td>Ray Liotta stars as a medical examiner who has...</td>\n",
       "      <td>2.464425</td>\n",
       "      <td>http://image.tmdb.org/t/p/w185//qQek3X5Yv0iLZq...</td>\n",
       "      <td>...</td>\n",
       "      <td>[{'iso_639_1': 'en', 'name': 'English'}]</td>\n",
       "      <td>Released</td>\n",
       "      <td>He loved her. He lost her. He won't let her me...</td>\n",
       "      <td>Unforgettable</td>\n",
       "      <td>False</td>\n",
       "      <td>5.3</td>\n",
       "      <td>22</td>\n",
       "      <td>1996</td>\n",
       "      <td>NaN</td>\n",
       "      <td>3.323529</td>\n",
       "    </tr>\n",
       "  </tbody>\n",
       "</table>\n",
       "<p>5 rows × 25 columns</p>\n",
       "</div>"
      ],
      "text/plain": [
       "   Unnamed: 0 belongs_to_collection    budget  \\\n",
       "0           1                   NaN  65000000   \n",
       "1          28                   NaN  18000000   \n",
       "2          31                   NaN  29500000   \n",
       "3          44                   NaN  20000000   \n",
       "4         101                   NaN  18000000   \n",
       "\n",
       "                                              genres homepage  movieId  \\\n",
       "0  [{'id': 12, 'name': 'Adventure'}, {'id': 14, '...      NaN     8844   \n",
       "1  [{'id': 14, 'name': 'Fantasy'}, {'id': 878, 'n...      NaN      902   \n",
       "2  [{'id': 878, 'name': 'Science Fiction'}, {'id'...      NaN       63   \n",
       "3  [{'id': 14, 'name': 'Fantasy'}, {'id': 18, 'na...      NaN      577   \n",
       "4  [{'id': 18, 'name': 'Drama'}, {'id': 9648, 'na...      NaN     2045   \n",
       "\n",
       "  original_language                                           overview  \\\n",
       "0                en  When siblings Judy and Peter discover an encha...   \n",
       "1                fr  A scientist in a surrealist society kidnaps ch...   \n",
       "2                en  In the year 2035, convict James Cole reluctant...   \n",
       "3                en  Susan wants to work in television and will the...   \n",
       "4                en  Ray Liotta stars as a medical examiner who has...   \n",
       "\n",
       "   popularity                                        poster_path    ...     \\\n",
       "0   17.015539  http://image.tmdb.org/t/p/w185//vzmL6fP7aPKNKP...    ...      \n",
       "1    9.822423  http://image.tmdb.org/t/p/w185//eVo6ewq4akfyJY...    ...      \n",
       "2   12.297305  http://image.tmdb.org/t/p/w185//6Sj9wDu3YugthX...    ...      \n",
       "3   10.448481  http://image.tmdb.org/t/p/w185//zCREx8trzejNie...    ...      \n",
       "4    2.464425  http://image.tmdb.org/t/p/w185//qQek3X5Yv0iLZq...    ...      \n",
       "\n",
       "                                    spoken_languages    status  \\\n",
       "0  [{'iso_639_1': 'en', 'name': 'English'}, {'iso...  Released   \n",
       "1  [{'iso_639_1': 'cn', 'name': '广州话 / 廣州話'}, {'i...  Released   \n",
       "2  [{'iso_639_1': 'en', 'name': 'English'}, {'iso...  Released   \n",
       "3           [{'iso_639_1': 'en', 'name': 'English'}]  Released   \n",
       "4           [{'iso_639_1': 'en', 'name': 'English'}]  Released   \n",
       "\n",
       "                                             tagline  \\\n",
       "0          Roll the dice and unleash the excitement!   \n",
       "1          Where happily ever after is just a dream.   \n",
       "2                             The future is history.   \n",
       "3             All she wanted was a little attention.   \n",
       "4  He loved her. He lost her. He won't let her me...   \n",
       "\n",
       "                       title  video vote_average vote_count  year    return  \\\n",
       "0                    Jumanji  False          6.9       2413  1995  4.043035   \n",
       "1  The City of Lost Children  False          7.6        308  1995  0.096589   \n",
       "2             Twelve Monkeys  False          7.4       2470  1995  5.723390   \n",
       "3                 To Die For  False          6.7        177  1995  1.064226   \n",
       "4              Unforgettable  False          5.3         22  1996       NaN   \n",
       "\n",
       "     rating  \n",
       "0  4.125000  \n",
       "1  3.778443  \n",
       "2  3.245690  \n",
       "3  2.884615  \n",
       "4  3.323529  \n",
       "\n",
       "[5 rows x 25 columns]"
      ]
     },
     "execution_count": 7,
     "metadata": {},
     "output_type": "execute_result"
    }
   ],
   "source": [
    "df_movies_metadata.head()"
   ]
  },
  {
   "cell_type": "code",
   "execution_count": 8,
   "metadata": {
    "collapsed": false
   },
   "outputs": [
    {
     "data": {
      "text/plain": [
       "(772, 25)"
      ]
     },
     "execution_count": 8,
     "metadata": {},
     "output_type": "execute_result"
    }
   ],
   "source": [
    "df_movies_metadata.shape"
   ]
  },
  {
   "cell_type": "code",
   "execution_count": null,
   "metadata": {
    "collapsed": true
   },
   "outputs": [],
   "source": []
  }
 ],
 "metadata": {
  "kernelspec": {
   "display_name": "Python 2",
   "language": "python",
   "name": "python2"
  },
  "language_info": {
   "codemirror_mode": {
    "name": "ipython",
    "version": 2
   },
   "file_extension": ".py",
   "mimetype": "text/x-python",
   "name": "python",
   "nbconvert_exporter": "python",
   "pygments_lexer": "ipython2",
   "version": "2.7.12"
  }
 },
 "nbformat": 4,
 "nbformat_minor": 0
}
